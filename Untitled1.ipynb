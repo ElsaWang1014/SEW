{
 "cells": [
  {
   "cell_type": "code",
   "execution_count": 2,
   "id": "5c4efdb8-2316-43cf-8b81-9156f0040633",
   "metadata": {},
   "outputs": [
    {
     "ename": "SyntaxError",
     "evalue": "invalid syntax (DelaySpread_und_RMS.py, line 125)",
     "output_type": "error",
     "traceback": [
      "\u001b[0;36m  File \u001b[0;32m~/Desktop/Datenbearbeitung_1/Code/code_neu/DelaySpread_und_RMS.py:125\u001b[0;36m\u001b[0m\n\u001b[0;31m    %matplotlib notebook\u001b[0m\n\u001b[0m    ^\u001b[0m\n\u001b[0;31mSyntaxError\u001b[0m\u001b[0;31m:\u001b[0m invalid syntax\n"
     ]
    }
   ],
   "source": [
    "%run DelaySpread_und_RMS.py"
   ]
  },
  {
   "cell_type": "code",
   "execution_count": null,
   "id": "357a8b28-7dc2-473f-9b26-94dcd21cc9f8",
   "metadata": {},
   "outputs": [],
   "source": []
  }
 ],
 "metadata": {
  "kernelspec": {
   "display_name": "Python 3 (ipykernel)",
   "language": "python",
   "name": "python3"
  },
  "language_info": {
   "codemirror_mode": {
    "name": "ipython",
    "version": 3
   },
   "file_extension": ".py",
   "mimetype": "text/x-python",
   "name": "python",
   "nbconvert_exporter": "python",
   "pygments_lexer": "ipython3",
   "version": "3.10.14"
  }
 },
 "nbformat": 4,
 "nbformat_minor": 5
}
