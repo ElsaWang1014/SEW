{
 "cells": [
  {
   "cell_type": "code",
   "execution_count": 1,
   "id": "20cd018c-7d8a-4135-b693-6e1c03f4d3f7",
   "metadata": {},
   "outputs": [
    {
     "ename": "SyntaxError",
     "evalue": "invalid syntax (DelaySpread_und_RMS.py, line 125)",
     "output_type": "error",
     "traceback": [
      "\u001b[0;36m  File \u001b[0;32m~/Desktop/Datenbearbeitung_1/Code/code_neu/DelaySpread_und_RMS.py:125\u001b[0;36m\u001b[0m\n\u001b[0;31m    %matplotlib notebook\u001b[0m\n\u001b[0m    ^\u001b[0m\n\u001b[0;31mSyntaxError\u001b[0m\u001b[0;31m:\u001b[0m invalid syntax\n"
     ]
    }
   ],
   "source": [
    "%run DelaySpread_und_RMS.py"
   ]
  },
  {
   "cell_type": "code",
   "execution_count": null,
   "id": "ebc148e9-6d57-4baa-ac5e-ca9c66b1c885",
   "metadata": {},
   "outputs": [],
   "source": []
  },
  {
   "cell_type": "code",
   "execution_count": null,
   "id": "5a29bed5-12ff-48f3-b4e6-cf0be65df5a7",
   "metadata": {},
   "outputs": [],
   "source": []
  }
 ],
 "metadata": {
  "kernelspec": {
   "display_name": "Python (my_new_env)",
   "language": "python",
   "name": "my_new_env"
  },
  "language_info": {
   "codemirror_mode": {
    "name": "ipython",
    "version": 3
   },
   "file_extension": ".py",
   "mimetype": "text/x-python",
   "name": "python",
   "nbconvert_exporter": "python",
   "pygments_lexer": "ipython3",
   "version": "3.10.14"
  }
 },
 "nbformat": 4,
 "nbformat_minor": 5
}
